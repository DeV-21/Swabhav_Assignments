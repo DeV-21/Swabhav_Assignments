{
  "nbformat": 4,
  "nbformat_minor": 0,
  "metadata": {
    "colab": {
      "provenance": [],
      "authorship_tag": "ABX9TyMmp0kl4F1TX3rZGTdB8rKP",
      "include_colab_link": true
    },
    "kernelspec": {
      "name": "python3",
      "display_name": "Python 3"
    },
    "language_info": {
      "name": "python"
    }
  },
  "cells": [
    {
      "cell_type": "markdown",
      "metadata": {
        "id": "view-in-github",
        "colab_type": "text"
      },
      "source": [
        "<a href=\"https://colab.research.google.com/github/DeV-21/Swabhav_Assignments/blob/main/Day2(NumberGuesserGame)_17_06_2025.ipynb\" target=\"_parent\"><img src=\"https://colab.research.google.com/assets/colab-badge.svg\" alt=\"Open In Colab\"/></a>"
      ]
    },
    {
      "cell_type": "markdown",
      "source": [
        "## Day 2 - 17/06/2025"
      ],
      "metadata": {
        "id": "UbvrW9FTGZmG"
      }
    },
    {
      "cell_type": "markdown",
      "source": [
        "### Assignment"
      ],
      "metadata": {
        "id": "uVNQQPxl6m_b"
      }
    },
    {
      "cell_type": "markdown",
      "metadata": {
        "id": "eAuJUKW3K2O7"
      },
      "source": [
        "Make a Numberguesser game in which your game will generate a random number between 1 to 100 .It will prompt the user to make a guess of the number.\n",
        "if it is less than what game generated number it will say Sorry,Too Low . If guess is beyond the number it will say Sorry,Too High. Once the user\n",
        "guesses the proper number the game ends and displays the actual tries he made to solve the game.The user\n",
        "should be able to play the game again if he wishes else he can exit from the game. If he wishes to play again , you game will generate a different number and so on.."
      ]
    },
    {
      "cell_type": "code",
      "execution_count": null,
      "metadata": {
        "id": "zQxepaX1fr3F"
      },
      "outputs": [],
      "source": [
        "import random\n",
        "counter = 0\n",
        "wants_to_play = False\n",
        "is_valid_reply = False\n",
        "is_valid_num = False\n",
        "while(not wants_to_play):\n",
        "  comp_num = random.randint(1,101)\n",
        "  turns=5\n",
        "  while(turns!=0):\n",
        "    while(not is_valid_reply):\n",
        "      user_num = int(input(\"Please enter a number between 1-100: \"))\n",
        "      if user_num >= 1 and user_num <= 100:\n",
        "        is_valid_num = True\n",
        "        if user_num < comp_num:\n",
        "          print(\"Sorry, Too Low.\")\n",
        "          counter+=1\n",
        "          turns-=1\n",
        "          if turns==0:\n",
        "            print(\"You lost! The number was\",comp_num)\n",
        "            play_again = input(\"Do you want to play the game again? y/n \")\n",
        "\n",
        "        elif user_num > comp_num:\n",
        "          print(\"Sorry, Too High.\")\n",
        "          counter+=1\n",
        "          turns-=1\n",
        "          if turns==0:\n",
        "            print(\"You lost! The number was\",comp_num)\n",
        "            play_again = input(\"Do you want to play the game again? y/n \")\n",
        "\n",
        "        else:\n",
        "          print(\"Congratulations! Number guessed is correct.\")\n",
        "          counter+=1\n",
        "          turns=0\n",
        "          print(counter,\"is the number of tries used to solve the game.\")\n",
        "          play_again = input(\"Do you want to play the game again? y/n \")\n",
        "          while(not is_valid_reply):\n",
        "              if(play_again == 'y' or play_again == 'n'):\n",
        "                is_valid_reply = True\n",
        "                counter=0\n",
        "                if(play_again=='y'):\n",
        "                  wants_to_play=False\n",
        "                else:\n",
        "                  wants_to_play=True\n",
        "              else:\n",
        "                print(\"Invalid input\")\n",
        "      else:\n",
        "        print(\"Invalid input\")"
      ]
    },
    {
      "cell_type": "code",
      "execution_count": null,
      "metadata": {
        "id": "edL1T1tA7l6O",
        "colab": {
          "base_uri": "https://localhost:8080/"
        },
        "outputId": "b70934ab-5539-462a-e7ee-440f42bff04b"
      },
      "outputs": [
        {
          "metadata": {
            "tags": null
          },
          "name": "stdout",
          "output_type": "stream",
          "text": [
            "Sorry, Too Low.\n"
          ]
        }
      ],
      "source": [
        "import random\n",
        "counter = 0\n",
        "wants_to_play = False\n",
        "is_valid_reply = False\n",
        "is_valid_num = False\n",
        "while(not wants_to_play):\n",
        "  comp_num = random.randint(1,101)\n",
        "  turns=5\n",
        "  while(turns!=0):\n",
        "    while(not is_valid_num):\n",
        "      user_num = int(input(\"Please enter a number between 1-100: \"))\n",
        "      if user_num >= 1 and user_num <= 100:\n",
        "        is_valid_num = True\n",
        "        if user_num < comp_num:\n",
        "          print(\"Sorry, Too Low.\")\n",
        "          counter+=1\n",
        "          turns-=1\n",
        "          if turns==0:\n",
        "            print(\"You lost! The number was\",comp_num)\n",
        "            play_again = input(\"Do you want to play the game again? y/n \")\n",
        "            while(not is_valid_reply):\n",
        "              if(play_again == 'y'):\n",
        "                is_valid_reply = True\n",
        "                counter, turns = 0, 5\n",
        "                wants_to_play=False\n",
        "              elif(play_again == 'n'):\n",
        "                is_valid_reply = True\n",
        "                wants_to_play=True\n",
        "              else:\n",
        "                print(\"Invalid input\")\n",
        "\n",
        "        elif user_num > comp_num:\n",
        "          print(\"Sorry, Too High.\")\n",
        "          counter+=1\n",
        "          turns-=1\n",
        "          if turns==0:\n",
        "            print(\"You lost! The number was\",comp_num)\n",
        "            play_again = input(\"Do you want to play the game again? y/n \")\n",
        "            while(not is_valid_reply):\n",
        "              if(play_again == 'y'):\n",
        "                is_valid_reply = True\n",
        "                counter, turns = 0, 5\n",
        "                wants_to_play=False\n",
        "              elif(play_again == 'n'):\n",
        "                is_valid_reply = True\n",
        "                wants_to_play=True\n",
        "              else:\n",
        "                print(\"Invalid input\")\n",
        "\n",
        "        else:\n",
        "          print(\"Congratulations! Number guessed is correct.\")\n",
        "          counter+=1\n",
        "          turns=0\n",
        "          print(counter,\"is the number of tries used to solve the game.\")\n",
        "          play_again = input(\"Do you want to play the game again? y/n \")\n",
        "          while(not is_valid_reply):\n",
        "            if(play_again == 'y'):\n",
        "              is_valid_reply = True\n",
        "              counter, turns = 0, 5\n",
        "              wants_to_play=False\n",
        "            elif(play_again == 'n'):\n",
        "              is_valid_reply = True\n",
        "              wants_to_play=True\n",
        "            else:\n",
        "              print(\"Invalid input\")\n",
        "      else:\n",
        "        print(\"Invalid input\")"
      ]
    },
    {
      "cell_type": "code",
      "execution_count": null,
      "metadata": {
        "id": "Qy36cN1Uv1m1"
      },
      "outputs": [],
      "source": [
        "import random\n",
        "counter = 0\n",
        "wants_to_play = False\n",
        "is_valid_reply = False\n",
        "is_valid_num = False\n",
        "\n",
        "def val_check(user_num):\n",
        "  if user_num >= 1 and user_num <= 100:\n",
        "    is_valid_num = True\n",
        "  else:\n",
        "    print(\"Invalid input\")\n",
        "    return False\n",
        "\n",
        "while(not wants_to_play):\n",
        "  comp_num = random.randint(1,101)\n",
        "  turns=5\n",
        "  while(turns!=0):\n",
        "    user_num = int(input(\"Please enter a number between 1-100: \"))\n",
        "    is_valid_num = val_check(user_num)\n",
        "    is_valid_num"
      ]
    },
    {
      "cell_type": "code",
      "source": [
        "def val_check(user_num):\n",
        "  if user_num >= 1 and user_num <= 100:\n",
        "    is_valid_num = True\n",
        "  else:\n",
        "    print(\"Invalid input\")\n",
        "    return False\n",
        "\n",
        "def reply_check(is_valid_reply):\n",
        "  if(play_again == 'y'):\n",
        "    return True\n",
        "    counter, turns = 0, 5\n",
        "\n",
        "  elif(play_again == 'n'):\n",
        "    is_valid_reply = True\n",
        "    wants_to_play = True\n",
        "  else:\n",
        "    print(\"Invalid input\")"
      ],
      "metadata": {
        "id": "Izd1PxDt58Cl"
      },
      "execution_count": null,
      "outputs": []
    },
    {
      "cell_type": "code",
      "execution_count": null,
      "metadata": {
        "id": "4w_qN_o495cB"
      },
      "outputs": [],
      "source": [
        "def validateInputNumber(input_val):\n",
        "  if input_val<1 or input_val>100:\n",
        "    return False\n",
        "  else:\n",
        "    return True"
      ]
    },
    {
      "cell_type": "code",
      "execution_count": null,
      "metadata": {
        "id": "cp5kTUes0f-l"
      },
      "outputs": [],
      "source": [
        "def getValidatedUserInput():\n",
        "  input_val = int(input(\"Enter a number between 1 and 100 : \"))\n",
        "  is_valid_input = validateInputNumber(input_val)\n",
        "  # print(input_val,is_valid_input)\n",
        "  if is_valid_input is False:\n",
        "    print(\"Invalid Input\")\n",
        "    return getValidatedUserInput()\n",
        "  return input_val"
      ]
    },
    {
      "cell_type": "code",
      "execution_count": null,
      "metadata": {
        "id": "2zzmV2nE6Vlu",
        "colab": {
          "base_uri": "https://localhost:8080/"
        },
        "outputId": "08ffda16-d5fa-4eed-a359-742548b7a650"
      },
      "outputs": [
        {
          "name": "stdout",
          "output_type": "stream",
          "text": [
            "Enter a number between 1 and 100 : 23\n"
          ]
        },
        {
          "output_type": "execute_result",
          "data": {
            "text/plain": [
              "23"
            ]
          },
          "metadata": {},
          "execution_count": 5
        }
      ],
      "source": [
        "getValidatedUserInput()"
      ]
    },
    {
      "cell_type": "code",
      "execution_count": null,
      "metadata": {
        "id": "h4h1PzdGovF8",
        "colab": {
          "base_uri": "https://localhost:8080/"
        },
        "outputId": "53291290-8d31-453d-9072-6b75727ab0f6"
      },
      "outputs": [
        {
          "output_type": "stream",
          "name": "stdout",
          "text": [
            "67\n",
            "Enter a number between 1 and 100 : 67\n",
            "found\n"
          ]
        }
      ],
      "source": [
        "import random\n",
        "counter = 0\n",
        "continue_game = True\n",
        "correct_guess = False\n",
        "is_valid_input = True\n",
        "random_num = random.randint(1,100)\n",
        "print(random_num)\n",
        "\n",
        "# print(input_val)\n",
        "while(not correct_guess):\n",
        "  input_val= getValidatedUserInput()\n",
        "  if input_val > random_num:\n",
        "    print('Too high')\n",
        "  elif input_val< random_num:\n",
        "    print('Too low')\n",
        "  else:\n",
        "    correct_guess = True\n",
        "    print('found')"
      ]
    },
    {
      "cell_type": "code",
      "source": [
        "import random\n",
        "continue_game = True\n",
        "\n",
        "while continue_game:\n",
        "    random_num = random.randint(1,100)\n",
        "    turns = 5\n",
        "    counter = 0\n",
        "\n",
        "    while turns > 0:\n",
        "      input_val = int(input(\"Enter a number between 1 and 100: \"))\n",
        "\n",
        "      if input_val >= 1 and input_val <= 100:\n",
        "        turns -= 1\n",
        "        counter += 1\n",
        "\n",
        "        if input_val > random_num:\n",
        "          print(\"Sorry, Too High\")\n",
        "        elif input_val < random_num:\n",
        "          print(\"Sorry, Too Low\")\n",
        "        else:\n",
        "          print(\"Number guessed is correct.\")\n",
        "          print(counter,\"is the number of tries used.\")\n",
        "          break\n",
        "      else:\n",
        "        print(\"Invalid input\")\n",
        "\n",
        "      if turns == 0:\n",
        "        print(\"You lost. The number was\",random_num)\n",
        "\n",
        "    while True:\n",
        "      play_again = input(\"Do you want to play again ? (y/n)\")\n",
        "      if play_again == 'y':\n",
        "        continue_game = True\n",
        "        break\n",
        "      elif play_again == 'n':\n",
        "        continue_game = False\n",
        "        break\n",
        "      else:\n",
        "        print(\"Invalid input\")\n"
      ],
      "metadata": {
        "id": "T3q9AL36RqJv",
        "colab": {
          "base_uri": "https://localhost:8080/"
        },
        "outputId": "d64d59bf-d4d3-49a3-c790-2ed92cd789fd"
      },
      "execution_count": null,
      "outputs": [
        {
          "name": "stdout",
          "output_type": "stream",
          "text": [
            "Enter a number between 1 and 100: 34\n",
            "Sorry, Too High\n",
            "Enter a number between 1 and 100: 45\n",
            "Sorry, Too High\n",
            "Enter a number between 1 and 100: 23\n",
            "Sorry, Too High\n",
            "Enter a number between 1 and 100: 12\n",
            "Sorry, Too High\n",
            "Enter a number between 1 and 100: 1\n",
            "Number guessed is correct.\n",
            "5 is the number of tries used.\n",
            "Do you want to play again ? (y/n)n\n"
          ]
        }
      ]
    },
    {
      "cell_type": "markdown",
      "metadata": {
        "id": "omUwR_QpoQ2_"
      },
      "source": [
        "Variation where the computer generates a number and then tries to guess within specific no. of turns adjusting the range of the numbers in which it has to guess the number"
      ]
    },
    {
      "cell_type": "code",
      "source": [
        "x=5\n",
        "y=10\n",
        "random_num = random.randint(x,y)\n",
        "print(random_num)"
      ],
      "metadata": {
        "id": "DaZuuxjZfQuA",
        "colab": {
          "base_uri": "https://localhost:8080/"
        },
        "outputId": "23267108-da72-4fa8-fae5-b18b09ed3e1e"
      },
      "execution_count": null,
      "outputs": [
        {
          "output_type": "stream",
          "name": "stdout",
          "text": [
            "5\n"
          ]
        }
      ]
    },
    {
      "cell_type": "code",
      "source": [
        "import random\n",
        "continue_game = True\n",
        "\n",
        "while continue_game:\n",
        "    random_num = random.randint(1,100)\n",
        "    turns = 5\n",
        "    counter = 0\n",
        "\n",
        "    while turns > 0:\n",
        "      guess = random.randint(1,100)\n",
        "\n",
        "      turns -= 1\n",
        "      counter += 1\n",
        "\n",
        "      if guess > random_num:\n",
        "        print(\"Sorry, Too High\")\n",
        "      elif guess < random_num:\n",
        "        print(\"Sorry, Too Low\")\n",
        "      else:\n",
        "        print(\"Number guessed is correct.\")\n",
        "        print(counter,\"is the number of tries used.\")\n",
        "        break\n",
        "\n",
        "      if turns == 0:\n",
        "        print(\"You lost. The number was\",random_num)\n",
        "\n",
        "    while True:\n",
        "      play_again = input(\"Do you want to play again ? (y/n)\")\n",
        "      if play_again == 'y':\n",
        "        continue_game = True\n",
        "        break\n",
        "      elif play_again == 'n':\n",
        "        continue_game = False\n",
        "        break\n",
        "      else:\n",
        "        print(\"Invalid input\")\n"
      ],
      "metadata": {
        "id": "Syro2JSJLa3Y",
        "colab": {
          "base_uri": "https://localhost:8080/"
        },
        "outputId": "897d5331-cc59-42bb-d138-29f56f836113"
      },
      "execution_count": null,
      "outputs": [
        {
          "name": "stdout",
          "output_type": "stream",
          "text": [
            "Sorry, Too Low\n",
            "Sorry, Too High\n",
            "Sorry, Too High\n",
            "Sorry, Too High\n",
            "Sorry, Too High\n",
            "You lost. The number was 52\n",
            "Do you want to play again ? (y/n)n\n"
          ]
        }
      ]
    },
    {
      "cell_type": "code",
      "source": [
        "# using binary search\n",
        "import random\n",
        "continue_game = True\n",
        "\n",
        "while continue_game:\n",
        "    random_num = random.randint(1,100)\n",
        "    turns = 5\n",
        "    counter = 0\n",
        "    low = 1\n",
        "    high = 100\n",
        "\n",
        "    while turns > 0:\n",
        "      guess = (low + high) // 2\n",
        "\n",
        "      turns -= 1\n",
        "      counter += 1\n",
        "\n",
        "      if guess > random_num:\n",
        "        high = guess - 1\n",
        "        print(\"Sorry, Too High\")\n",
        "      elif guess < random_num:\n",
        "        low = guess + 1\n",
        "        print(\"Sorry, Too Low\")\n",
        "      else:\n",
        "        print(\"Number guessed is correct.\")\n",
        "        print(counter,\"is the number of tries used.\")\n",
        "        break\n",
        "\n",
        "      if turns == 0:\n",
        "        print(\"You lost. The number was\",random_num)\n",
        "\n",
        "    while True:\n",
        "      play_again = input(\"Do you want to play again ? (y/n)\")\n",
        "      if play_again == 'y':\n",
        "        continue_game = True\n",
        "        break\n",
        "      elif play_again == 'n':\n",
        "        continue_game = False\n",
        "        break\n",
        "      else:\n",
        "        print(\"Invalid input\")\n"
      ],
      "metadata": {
        "id": "sksWsXbCapi3",
        "colab": {
          "base_uri": "https://localhost:8080/"
        },
        "outputId": "325c5bbf-9e4d-4bce-e04f-fc39d5d1eba8"
      },
      "execution_count": null,
      "outputs": [
        {
          "name": "stdout",
          "output_type": "stream",
          "text": [
            "Sorry, Too Low\n",
            "Sorry, Too High\n",
            "Sorry, Too High\n",
            "Sorry, Too Low\n",
            "Sorry, Too High\n",
            "You lost. The number was 57\n",
            "Do you want to play again ? (y/n)n\n"
          ]
        }
      ]
    },
    {
      "cell_type": "code",
      "source": [
        "#using narrowing window logic\n",
        "import random\n",
        "continue_game = True\n",
        "\n",
        "while continue_game:\n",
        "    random_num = random.randint(1,100)\n",
        "    turns = 5\n",
        "    counter = 0\n",
        "    min = 1\n",
        "    max = 100\n",
        "\n",
        "    while turns > 0:\n",
        "      guess = random.randint(min,max)\n",
        "      turns -= 1\n",
        "      counter += 1\n",
        "\n",
        "      if guess > random_num:\n",
        "        max = guess - 1\n",
        "        print(\"Sorry, Too High\")\n",
        "      elif guess < random_num:\n",
        "        min = guess + 1\n",
        "        print(\"Sorry, Too Low\")\n",
        "      else:\n",
        "        print(\"Number guessed is correct.\")\n",
        "        print(counter,\"is the number of tries used.\")\n",
        "        break\n",
        "\n",
        "      if turns == 0:\n",
        "        print(\"You lost. The number was\",random_num)\n",
        "\n",
        "    while True:\n",
        "      play_again = input(\"Do you want to play again ? (y/n)\")\n",
        "      if play_again == 'y':\n",
        "        continue_game = True\n",
        "        break\n",
        "      elif play_again == 'n':\n",
        "        continue_game = False\n",
        "        break\n",
        "      else:\n",
        "        print(\"Invalid input\")\n"
      ],
      "metadata": {
        "id": "gi4BvwS0NAyA",
        "colab": {
          "base_uri": "https://localhost:8080/"
        },
        "outputId": "abc01116-b2e5-404d-91bb-d36b71a12e6e"
      },
      "execution_count": null,
      "outputs": [
        {
          "name": "stdout",
          "output_type": "stream",
          "text": [
            "Sorry, Too Low\n",
            "Sorry, Too Low\n",
            "Sorry, Too Low\n",
            "Sorry, Too High\n",
            "Sorry, Too High\n",
            "You lost. The number was 91\n",
            "Do you want to play again ? (y/n)n\n"
          ]
        }
      ]
    },
    {
      "cell_type": "markdown",
      "metadata": {
        "id": "pXAL1M1Uoda-"
      },
      "source": [
        "Variation where the computer generates a number and then both the computer and the user compete with each other trying to guess within specific no. of turns where computer adjusts the range of the numbers in which it has to guess the number"
      ]
    },
    {
      "cell_type": "code",
      "execution_count": null,
      "metadata": {
        "id": "ATW4kAlkzLPC",
        "colab": {
          "base_uri": "https://localhost:8080/"
        },
        "outputId": "acfa14e0-297a-47a9-93cf-02c198de0e25"
      },
      "outputs": [
        {
          "output_type": "stream",
          "name": "stdout",
          "text": [
            "Enter a number between 1 and 100: 23\n",
            "Guess is 23 Sorry, Too Low\n",
            "Computer's Guess is incorrect\n",
            "\n",
            "Enter a number between 1 and 100: 45\n",
            "Guess is 45 Sorry, Too Low\n",
            "Computer's Guess is incorrect\n",
            "\n",
            "Enter a number between 1 and 100: 56\n",
            "Guess is 56 Sorry, Too High\n",
            "Computer's Guess is incorrect\n",
            "\n",
            "Enter a number between 1 and 100: 50\n",
            "Guess is 50 Sorry, Too Low\n",
            "Computer's Guess is incorrect\n",
            "\n",
            "Enter a number between 1 and 100: 53\n",
            "Number guessed by User is correct.\n",
            "\n",
            "5 is the number of tries used.\n",
            "\n",
            "Do you want to play again ? (y/n)n\n",
            "\n",
            "User won, the number was 53\n",
            "Computer's guesses were [90, 48, 60, 59]\n"
          ]
        }
      ],
      "source": [
        "import random\n",
        "continue_game = True\n",
        "user_won = False\n",
        "comp_won = False\n",
        "comp_list = []\n",
        "\n",
        "while continue_game:\n",
        "    random_num = random.randint(1,100)\n",
        "    user_turns = 5\n",
        "    comp_turns = 5\n",
        "    user_counter = 0\n",
        "    comp_counter = 0\n",
        "    min, max = 1, 100\n",
        "\n",
        "    while user_turns > 0 or comp_turns > 0:\n",
        "      if user_turns > 0:\n",
        "        input_val = int(input(\"Enter a number between 1 and 100: \"))\n",
        "        if input_val >= 1 and input_val <= 100:\n",
        "          user_turns -= 1\n",
        "          user_counter += 1\n",
        "\n",
        "          if input_val > random_num:\n",
        "            print(f\"Guess is {input_val} Sorry, Too High\")\n",
        "          elif input_val < random_num:\n",
        "            print(f\"Guess is {input_val} Sorry, Too Low\")\n",
        "          else:\n",
        "            print(\"Number guessed by User is correct.\\n\")\n",
        "            print(user_counter,\"is the number of tries used.\\n\")\n",
        "            user_won = True\n",
        "            break\n",
        "        else:\n",
        "          print(\"Invalid input\")\n",
        "\n",
        "        if user_turns == 0:\n",
        "          print(f\"User lost. The number was {random_num}\\n\")\n",
        "\n",
        "      if comp_turns > 0:\n",
        "        comp_turns -= 1\n",
        "        comp_counter += 1\n",
        "        comp_num = random.randint(min,max)\n",
        "\n",
        "        if comp_num > random_num:\n",
        "          comp_list.append(comp_num)\n",
        "          max = comp_num - 1\n",
        "          print(f\"Computer's Guess is incorrect\\n\")\n",
        "        elif comp_num < random_num:\n",
        "          comp_list.append(comp_num)\n",
        "          min = comp_num + 1\n",
        "          print(f\"Computer's Guess is incorrect\\n\")\n",
        "        else:\n",
        "          comp_list.append(comp_num)\n",
        "          print(\"Number guessed by Computer is correct.\\n\")\n",
        "          print(comp_counter,\"is the number of tries used.\\n\")\n",
        "          comp_won = True\n",
        "          break\n",
        "\n",
        "        if comp_turns == 0:\n",
        "          print(f\"Computer lost. The number was {random_num} \\n\")\n",
        "\n",
        "    while True:\n",
        "      play_again = input(\"Do you want to play again ? (y/n)\")\n",
        "      if play_again == 'y':\n",
        "        continue_game = True\n",
        "        break\n",
        "      elif play_again == 'n':\n",
        "        continue_game = False\n",
        "        break\n",
        "      else:\n",
        "        print(\"Invalid input\")\n",
        "\n",
        "if not user_won and not comp_won:\n",
        "  print(f\"\\nNo one won, the number was {random_num}\")\n",
        "  print(f\"Computer's guesses were {comp_list}\")\n",
        "elif not user_won and comp_won:\n",
        "  print(f\"\\nComputer won, the number was {random_num}\")\n",
        "  print(f\"Computer's guesses were {comp_list}\")\n",
        "elif user_won and not comp_won:\n",
        "  print(f\"\\nUser won, the number was {random_num}\")\n",
        "  print(f\"Computer's guesses were {comp_list}\")"
      ]
    }
  ]
}