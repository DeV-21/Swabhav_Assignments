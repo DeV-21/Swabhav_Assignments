{
  "nbformat": 4,
  "nbformat_minor": 0,
  "metadata": {
    "colab": {
      "provenance": [],
      "authorship_tag": "ABX9TyPVPaZOq+TIyG99PAC0ch+K",
      "include_colab_link": true
    },
    "kernelspec": {
      "name": "python3",
      "display_name": "Python 3"
    },
    "language_info": {
      "name": "python"
    }
  },
  "cells": [
    {
      "cell_type": "markdown",
      "metadata": {
        "id": "view-in-github",
        "colab_type": "text"
      },
      "source": [
        "<a href=\"https://colab.research.google.com/github/DeV-21/Swabhav_Assignments/blob/main/NumpyAssignment27_06_2025.ipynb\" target=\"_parent\"><img src=\"https://colab.research.google.com/assets/colab-badge.svg\" alt=\"Open In Colab\"/></a>"
      ]
    },
    {
      "cell_type": "markdown",
      "source": [
        "### Easy Questions -"
      ],
      "metadata": {
        "id": "NewTN0jiTDoa"
      }
    },
    {
      "cell_type": "markdown",
      "source": [
        "1. Create a 1D array of 20 sequential integers and reshape it into a 4x5 matrix.\n"
      ],
      "metadata": {
        "id": "k1G_wrSYJUgC"
      }
    },
    {
      "cell_type": "code",
      "execution_count": null,
      "metadata": {
        "id": "jDH6wFmlEDxX"
      },
      "outputs": [],
      "source": [
        "import numpy as np"
      ]
    },
    {
      "cell_type": "code",
      "source": [
        "arr1 = np.arange(1,21)\n",
        "print(\"Array:\", arr1)\n",
        "reshaped_arr1 =  arr1.reshape(4,5)\n",
        "print(f\"\\nArray reshaped into 4x5 matrix:\")\n",
        "print(reshaped_arr1)"
      ],
      "metadata": {
        "colab": {
          "base_uri": "https://localhost:8080/"
        },
        "id": "ah8FCWtlJXxm",
        "outputId": "7bfc406a-0968-4386-efbe-a9860a0921d1"
      },
      "execution_count": null,
      "outputs": [
        {
          "output_type": "stream",
          "name": "stdout",
          "text": [
            "Array: [ 1  2  3  4  5  6  7  8  9 10 11 12 13 14 15 16 17 18 19 20]\n",
            "\n",
            "Array reshaped into 4x5 matrix:\n",
            "[[ 1  2  3  4  5]\n",
            " [ 6  7  8  9 10]\n",
            " [11 12 13 14 15]\n",
            " [16 17 18 19 20]]\n"
          ]
        }
      ]
    },
    {
      "cell_type": "markdown",
      "source": [
        "2. Write the code using np.arange() to get all even numbers between 21 and 70, (70 inclusive)"
      ],
      "metadata": {
        "id": "UpX6N1gSMoKa"
      }
    },
    {
      "cell_type": "code",
      "source": [
        "arr2 = np.arange(22,71,2)\n",
        "print(f\"Even Numbers between 21 and 70: {arr2}\")"
      ],
      "metadata": {
        "colab": {
          "base_uri": "https://localhost:8080/"
        },
        "id": "wlsQ-o6TJdPy",
        "outputId": "bf9de932-6e1e-4190-bad8-0b67e016938b"
      },
      "execution_count": null,
      "outputs": [
        {
          "output_type": "stream",
          "name": "stdout",
          "text": [
            "Even Number between 21 and 70: [22 24 26 28 30 32 34 36 38 40 42 44 46 48 50 52 54 56 58 60 62 64 66 68\n",
            " 70]\n"
          ]
        }
      ]
    },
    {
      "cell_type": "markdown",
      "source": [
        "3. Write the code using np.arange() to get all odd numbers between 20 and 71. (71 inclusive)"
      ],
      "metadata": {
        "id": "qk323i0IMpxQ"
      }
    },
    {
      "cell_type": "code",
      "source": [
        "arr3 = np.arange(21,72,2)\n",
        "print(f\"Odd Numbers between 20 and 71: {arr3}\")"
      ],
      "metadata": {
        "colab": {
          "base_uri": "https://localhost:8080/"
        },
        "id": "-4RQN9RIMqLw",
        "outputId": "2992f6b9-bad1-4278-9e2f-2985167cecc1"
      },
      "execution_count": null,
      "outputs": [
        {
          "output_type": "stream",
          "name": "stdout",
          "text": [
            "Odd Numbers between 20 and 71: [21 23 25 27 29 31 33 35 37 39 41 43 45 47 49 51 53 55 57 59 61 63 65 67\n",
            " 69 71]\n"
          ]
        }
      ]
    },
    {
      "cell_type": "markdown",
      "source": [
        "4. Generate an array of 15 random integers and sort it in ascending order."
      ],
      "metadata": {
        "id": "qwNZuh08MuEm"
      }
    },
    {
      "cell_type": "code",
      "source": [
        "arr4 = np.random.randint(0,100, size = 15)\n",
        "print(f\"Original Array: {arr4}\")\n",
        "\n",
        "sorted = np.sort(arr4)\n",
        "print(f\"Sorted Array: {sorted}\")"
      ],
      "metadata": {
        "colab": {
          "base_uri": "https://localhost:8080/"
        },
        "id": "4CqFJXlnMtjy",
        "outputId": "45a2e49a-7db2-493a-aa04-56bae7deebd5"
      },
      "execution_count": null,
      "outputs": [
        {
          "output_type": "stream",
          "name": "stdout",
          "text": [
            "Original Array: [51 77 65 44 13 27 48 23 31 67 10 52 32 84 76]\n",
            "Sorted Array: [10 13 23 27 31 32 44 48 51 52 65 67 76 77 84]\n"
          ]
        }
      ]
    },
    {
      "cell_type": "markdown",
      "source": [
        "5. Create a 1D array of zeros of length 10 and set the 5th element to 1."
      ],
      "metadata": {
        "id": "6seiXX59MtL-"
      }
    },
    {
      "cell_type": "code",
      "source": [
        "arr5 = np.zeros(10, dtype = int)\n",
        "print(f\"Original Array: {arr5}\")\n",
        "\n",
        "arr5[4] = 1\n",
        "print(f\"Modified Array: {arr5}\")"
      ],
      "metadata": {
        "colab": {
          "base_uri": "https://localhost:8080/"
        },
        "id": "awsM3ruRMukO",
        "outputId": "9e17e6f5-19fd-4850-ab61-945475c0196b"
      },
      "execution_count": null,
      "outputs": [
        {
          "output_type": "stream",
          "name": "stdout",
          "text": [
            "Original Array: [0 0 0 0 0 0 0 0 0 0]\n",
            "Modified Array: [0 0 0 0 1 0 0 0 0 0]\n"
          ]
        }
      ]
    },
    {
      "cell_type": "markdown",
      "source": [
        "6. Find the unique elements in a given array [1, 2, 2, 3, 4, 4, 5]."
      ],
      "metadata": {
        "id": "vXxyN21JSq6D"
      }
    },
    {
      "cell_type": "code",
      "source": [
        "arr6  = np.array([1,2,2,3,4,4,5])\n",
        "print(f\"Original Array: {arr6}\")\n",
        "print(f\"Unique Elements in the array: {np.unique(arr6)}\")"
      ],
      "metadata": {
        "colab": {
          "base_uri": "https://localhost:8080/"
        },
        "id": "azSBwgVeSrnH",
        "outputId": "0af786fe-7ba9-452b-cefd-891014f7d47c"
      },
      "execution_count": null,
      "outputs": [
        {
          "output_type": "stream",
          "name": "stdout",
          "text": [
            "Original Array: [1 2 2 3 4 4 5]\n",
            "Unique Elements in the array: [1 2 3 4 5]\n"
          ]
        }
      ]
    },
    {
      "cell_type": "markdown",
      "source": [
        "7. Create an array with values ranging from 0 to 10 and reverse the array."
      ],
      "metadata": {
        "id": "iTLOaQC-Stjg"
      }
    },
    {
      "cell_type": "code",
      "source": [
        "arr7 =  np.arange(0,11)\n",
        "print(f\"Original array: {arr7}\")\n",
        "\n",
        "reversed_arr = arr7[::-1]\n",
        "print(f\"Reversed array: {reversed_arr}\")"
      ],
      "metadata": {
        "id": "AnCq2F_cSuSN",
        "colab": {
          "base_uri": "https://localhost:8080/"
        },
        "outputId": "b0e7208c-b33b-401e-fb9d-ff9e060be8b3"
      },
      "execution_count": null,
      "outputs": [
        {
          "output_type": "stream",
          "name": "stdout",
          "text": [
            "Original array: [ 0  1  2  3  4  5  6  7  8  9 10]\n",
            "Reversed array: [10  9  8  7  6  5  4  3  2  1  0]\n"
          ]
        }
      ]
    },
    {
      "cell_type": "markdown",
      "source": [
        "8. Given a list of birds and their corresponding age, calculate:\n",
        "- a. the mean age of the Crane bird (rounded off to 2 decimal points)\n",
        "- b. find the name of the oldest bird in the list\n",
        "  - birds = ['spoonbills', 'plovers', 'plovers', 'plovers', 'plovers', 'Cranes', 'plovers', 'plovers', 'Cranes', 'spoonbills']\n",
        "  - age = [5.5, 6.0, 3.5, 1.5, 3.0, 4.0, 3.5, 2.0, 5.5, 6.0]"
      ],
      "metadata": {
        "id": "_8Fe1X3mSwtp"
      }
    },
    {
      "cell_type": "code",
      "source": [
        "birds = ['spoonbills', 'plovers', 'plovers', 'plovers', 'plovers', 'Cranes', 'plovers', 'plovers', 'Cranes', 'spoonbills']\n",
        "age = [5.5, 6.0, 3.5, 1.5, 3.0, 4.0, 3.5, 2.0, 5.5, 6.0]\n",
        "\n",
        "birds_arr = np.array(birds)\n",
        "age_arr = np.array(age)\n",
        "\n",
        "crane_ages = age_arr[birds_arr == \"Cranes\"]\n",
        "mean_crane_age = np.round(crane_ages.mean(), 2)\n",
        "print(f\"Mean age of Crane birds: {mean_crane_age}\")\n",
        "\n",
        "max_index = np.argmax(age_arr)\n",
        "oldest_bird = birds_arr[max_index]\n",
        "print(f\"Oldest bird in the birds list is: {oldest_bird}\")"
      ],
      "metadata": {
        "id": "wvW1twd0R610",
        "colab": {
          "base_uri": "https://localhost:8080/"
        },
        "outputId": "1eb366b7-3d40-40c3-f198-c9a96d3df4d0"
      },
      "execution_count": null,
      "outputs": [
        {
          "output_type": "stream",
          "name": "stdout",
          "text": [
            "Mean age of Crane birds: 4.75\n",
            "Oldest bird in the birds list is: plovers\n"
          ]
        }
      ]
    },
    {
      "cell_type": "markdown",
      "source": [
        "9. Given a 2d array, write a program to return a subarray such that the subarray consists of the\n",
        "elements from:\n",
        "- a. the second to the fourth row of the original array,\n",
        "- b. the elements in these rows should be from the last three columns of the corresponding rows of the original array,\n",
        "- c. the rows should be in reversed order."
      ],
      "metadata": {
        "id": "diNLI0HyTBdJ"
      }
    },
    {
      "cell_type": "code",
      "source": [
        "import numpy as np\n",
        "arr2d = np.array([[1, 2, 3, 4, 5],\n",
        "                  [6, 7, 8, 9, 10],\n",
        "                  [11, 12, 13, 14,15],\n",
        "                  [16, 17, 18, 19, 20],\n",
        "                  [21, 22, 23, 24, 25]])\n",
        "print(\"2d Array:\")\n",
        "print(arr2d)\n",
        "\n",
        "subarr = arr2d[1:4,-3:][::-1]\n",
        "print(\"\\nSubarray:\")\n",
        "print(subarr)"
      ],
      "metadata": {
        "colab": {
          "base_uri": "https://localhost:8080/"
        },
        "id": "5x4UPdzVWBgI",
        "outputId": "0809e2be-9622-441f-a031-0f14ddf5431d"
      },
      "execution_count": null,
      "outputs": [
        {
          "output_type": "stream",
          "name": "stdout",
          "text": [
            "2d Array:\n",
            "[[ 1  2  3  4  5]\n",
            " [ 6  7  8  9 10]\n",
            " [11 12 13 14 15]\n",
            " [16 17 18 19 20]\n",
            " [21 22 23 24 25]]\n",
            "\n",
            "Subarray:\n",
            "[[18 19 20]\n",
            " [13 14 15]\n",
            " [ 8  9 10]]\n"
          ]
        }
      ]
    },
    {
      "cell_type": "code",
      "source": [
        "arr2d = np.array([[1, 2, 3, 4, 5],\n",
        "                  [6, 7, 8, 9, 10],\n",
        "                  [11, 12, 13, 14,15],\n",
        "                  [16, 17, 18, 19, 20],\n",
        "                  [21, 22, 23, 24, 25]])\n",
        "print(\"2d Array:\")\n",
        "print(arr2d)\n",
        "\n",
        "subarr = arr2d[1:4,2:][::-1]\n",
        "print(\"\\nSubarray:\")\n",
        "print(subarr)"
      ],
      "metadata": {
        "id": "uR5NFK8tTBtb",
        "colab": {
          "base_uri": "https://localhost:8080/"
        },
        "outputId": "e6c737c6-877f-4716-c5d2-7a53c613ad90"
      },
      "execution_count": null,
      "outputs": [
        {
          "output_type": "stream",
          "name": "stdout",
          "text": [
            "2d Array:\n",
            "[[ 1  2  3  4  5]\n",
            " [ 6  7  8  9 10]\n",
            " [11 12 13 14 15]\n",
            " [16 17 18 19 20]\n",
            " [21 22 23 24 25]]\n",
            "\n",
            "Subarray:\n",
            "[[18 19 20]\n",
            " [13 14 15]\n",
            " [ 8  9 10]]\n"
          ]
        }
      ]
    },
    {
      "cell_type": "markdown",
      "source": [
        "### Moderate Questions -"
      ],
      "metadata": {
        "id": "ka-ZfJcETCdP"
      }
    },
    {
      "cell_type": "markdown",
      "source": [
        "1. Create a 4x4 matrix and replace all elements on its diagonal with 7.\n"
      ],
      "metadata": {
        "id": "jHPCl1fzbe9W"
      }
    },
    {
      "cell_type": "code",
      "source": [
        "mat = np.zeros((4,4), dtype = int)\n",
        "print(\"Original Matrix: \")\n",
        "print(mat)\n",
        "\n",
        "np.fill_diagonal(mat, 7)\n",
        "print(\"\\nModified Matrix:\")\n",
        "print(mat)"
      ],
      "metadata": {
        "colab": {
          "base_uri": "https://localhost:8080/"
        },
        "id": "VGYcHGnbXJ8M",
        "outputId": "4bec3b26-b80c-448c-9b15-521ed6dea41e"
      },
      "execution_count": null,
      "outputs": [
        {
          "output_type": "stream",
          "name": "stdout",
          "text": [
            "Original Matrix: \n",
            "[[0 0 0 0]\n",
            " [0 0 0 0]\n",
            " [0 0 0 0]\n",
            " [0 0 0 0]]\n",
            "\n",
            "Modified Matrix:\n",
            "[[7 0 0 0]\n",
            " [0 7 0 0]\n",
            " [0 0 7 0]\n",
            " [0 0 0 7]]\n"
          ]
        }
      ]
    },
    {
      "cell_type": "code",
      "source": [
        "mat = np.zeros((4, 4), dtype=int)\n",
        "\n",
        "for i in range(mat.shape[0]):\n",
        "    for j in range(mat.shape[1]):\n",
        "        if i == j:\n",
        "            mat[i, j] = 7\n",
        "\n",
        "print(mat)"
      ],
      "metadata": {
        "colab": {
          "base_uri": "https://localhost:8080/"
        },
        "id": "J3gkbKJAe4uM",
        "outputId": "9898acee-e057-4405-9ca4-4816089bbc68"
      },
      "execution_count": null,
      "outputs": [
        {
          "output_type": "stream",
          "name": "stdout",
          "text": [
            "[[7 0 0 0]\n",
            " [0 7 0 0]\n",
            " [0 0 7 0]\n",
            " [0 0 0 7]]\n"
          ]
        }
      ]
    },
    {
      "cell_type": "markdown",
      "source": [
        "2. Given two arrays of the same size, compute their element-wise product.\n"
      ],
      "metadata": {
        "id": "LDuNjCL5biUk"
      }
    },
    {
      "cell_type": "code",
      "source": [
        "import numpy as np\n",
        "\n",
        "arr1 = np.array([2, 4, 6])\n",
        "arr2 = np.array([1, 3, 5])\n",
        "\n",
        "product = np.multiply(arr1, arr2)\n",
        "\n",
        "print(\"Array 1:\", arr1)\n",
        "print(\"Array 2:\", arr2)\n",
        "print(\"Element-wise product:\", product)"
      ],
      "metadata": {
        "colab": {
          "base_uri": "https://localhost:8080/"
        },
        "id": "_Co6b6cPhbLt",
        "outputId": "2a5ae00b-fa4e-4a64-bb8c-47b755c937ec"
      },
      "execution_count": null,
      "outputs": [
        {
          "output_type": "stream",
          "name": "stdout",
          "text": [
            "Array 1: [2 4 6]\n",
            "Array 2: [1 3 5]\n",
            "Element-wise product: [ 2 12 30]\n"
          ]
        }
      ]
    },
    {
      "cell_type": "code",
      "source": [
        "mat1 = np.random.randint(10, size=(3,3))\n",
        "print(\"Matrix a:\")\n",
        "print(mat1)\n",
        "\n",
        "mat2 = np.random.randint(10, size=(3,3))\n",
        "print(\"\\nMatrix b: \")\n",
        "print(mat2)\n",
        "\n",
        "mat_prod = np.multiply(mat1, mat2)\n",
        "print(\"\\nElement wise product of matrix a and b:\")\n",
        "print(mat_prod)"
      ],
      "metadata": {
        "colab": {
          "base_uri": "https://localhost:8080/"
        },
        "id": "2XGpAaxfbis3",
        "outputId": "0ddf5394-031e-4723-ed76-1d075e05942f"
      },
      "execution_count": null,
      "outputs": [
        {
          "output_type": "stream",
          "name": "stdout",
          "text": [
            "Matrix a:\n",
            "[[5 4 2]\n",
            " [0 0 2]\n",
            " [2 2 0]]\n",
            "\n",
            "Matrix b: \n",
            "[[3 9 3]\n",
            " [9 3 7]\n",
            " [2 3 5]]\n",
            "\n",
            "Element wise product of matrix a and b:\n",
            "[[15 36  6]\n",
            " [ 0  0 14]\n",
            " [ 4  6  0]]\n"
          ]
        }
      ]
    },
    {
      "cell_type": "markdown",
      "source": [
        "3. Create a random 6x6 matrix and compute the mean and standard deviation of its elements.\n"
      ],
      "metadata": {
        "id": "jM6JcTCgbk2Q"
      }
    },
    {
      "cell_type": "code",
      "source": [
        "mat3 = np.random.randint(100, size = (6,6))\n",
        "print(\"Random 6x6 Matrix:\")\n",
        "print(mat3)\n",
        "\n",
        "print(f\"\\nMean of the matrix: {np.mean(mat3)}\")\n",
        "print(f\"\\nStandard Deviation of the matrix: {np.std(mat3)}\")"
      ],
      "metadata": {
        "colab": {
          "base_uri": "https://localhost:8080/"
        },
        "id": "dgdIbfGtbmXN",
        "outputId": "47837481-fc77-4e0b-b404-639580b7241c"
      },
      "execution_count": null,
      "outputs": [
        {
          "output_type": "stream",
          "name": "stdout",
          "text": [
            "Random 6x6 Matrix:\n",
            "[[56 22 84 74 88 65]\n",
            " [76 79 82 34 10 41]\n",
            " [88 20 77 99 48 89]\n",
            " [83 18 24 40 61  2]\n",
            " [10 61  9 68 46 12]\n",
            " [51 14 67 69 47 27]]\n",
            "\n",
            "Mean of the matrix: 51.138888888888886\n",
            "\n",
            "Standard Deviation of the matrix: 28.203775139132798\n"
          ]
        }
      ]
    },
    {
      "cell_type": "markdown",
      "source": [
        "4. Stack two arrays vertically and horizontally (use vstack and hstack).\n"
      ],
      "metadata": {
        "id": "w0V90-o_bnQI"
      }
    },
    {
      "cell_type": "code",
      "source": [
        "arr1 = np.random.randint(0,10, size = 5)\n",
        "print(f\"Array 1: {arr1}\")\n",
        "\n",
        "arr2 = np.random.randint(0,10, size = 5)\n",
        "print(f\"Array 2: {arr2}\")\n",
        "\n",
        "v_result = np.vstack((arr1, arr2))\n",
        "print(f\"\\nVertical Stack (vstack):\")\n",
        "print(v_result)\n",
        "\n",
        "h_result = np.hstack((arr1, arr2))\n",
        "print(f\"\\nHorizontal Stack (hstack):\")\n",
        "print(h_result)"
      ],
      "metadata": {
        "colab": {
          "base_uri": "https://localhost:8080/"
        },
        "id": "2bEMH9zibolq",
        "outputId": "853ad675-47f0-44cf-d030-ffda6b681f29"
      },
      "execution_count": null,
      "outputs": [
        {
          "output_type": "stream",
          "name": "stdout",
          "text": [
            "Array 1: [4 2 5 4 2]\n",
            "Array 2: [4 4 4 0 9]\n",
            "\n",
            "Vertical Stack (vstack):\n",
            "[[4 2 5 4 2]\n",
            " [4 4 4 0 9]]\n",
            "\n",
            "Horizontal Stack (hstack):\n",
            "[4 2 5 4 2 4 4 4 0 9]\n"
          ]
        }
      ]
    },
    {
      "cell_type": "markdown",
      "source": [
        "5. Create a 1D array of 50 random floats between 0 and 1, and count how many values are\n",
        "greater than 0.5.\n"
      ],
      "metadata": {
        "id": "esZdKFX5bpQC"
      }
    },
    {
      "cell_type": "code",
      "source": [
        "import numpy as np\n",
        "\n",
        "arr3 = np.random.rand(50)\n",
        "print(\"1D array of 50 random floats:\")\n",
        "print(arr3)\n",
        "\n",
        "# counter = 0\n",
        "# for a in arr3:\n",
        "#   if a > 0.5:\n",
        "#     counter += 1\n",
        "# print(f\"\\n{counter} values are greater than 0.5\")\n",
        "\n",
        "count = np.sum(arr3 > 0.5)\n",
        "print(f\"\\n{count} values are greater than 0.5\")"
      ],
      "metadata": {
        "colab": {
          "base_uri": "https://localhost:8080/"
        },
        "id": "5qxSezvQsamN",
        "outputId": "920b9813-d94f-4654-ddd6-5f1a82f5c9be"
      },
      "execution_count": null,
      "outputs": [
        {
          "output_type": "stream",
          "name": "stdout",
          "text": [
            "1D array of 50 random floats:\n",
            "[0.50364386 0.64621221 0.35649288 0.60854806 0.67904958 0.85104634\n",
            " 0.29546024 0.77302216 0.77827631 0.97438073 0.98497115 0.42639676\n",
            " 0.94111568 0.33001468 0.9703033  0.56495404 0.15546606 0.22408959\n",
            " 0.60678262 0.08894376 0.31840584 0.53785307 0.2136401  0.78093823\n",
            " 0.86593265 0.5203757  0.48750631 0.50319123 0.13383839 0.34422164\n",
            " 0.71798765 0.01021527 0.14103571 0.60380268 0.22903173 0.18517493\n",
            " 0.69869049 0.03860485 0.95053389 0.15721187 0.32000766 0.98345514\n",
            " 0.09314709 0.782944   0.98520586 0.28290286 0.49201042 0.78703948\n",
            " 0.81127289 0.60424684]\n",
            "\n",
            "28 values are greater than 0.5\n"
          ]
        }
      ]
    },
    {
      "cell_type": "markdown",
      "source": [
        "6. Given a list of birds and their corresponding age, return the name of birds sorted according to age (ascending)\n",
        "- birds = ['spoonbills', 'plovers', 'plovers', 'plovers', 'plovers', 'Cranes', 'plovers', 'plovers', 'Cranes', 'spoonbills']\n",
        "- age = [5.5, 6.0, 3.5, 1.5, 3.0, 4.0, 3.5, 2.0, 5.5, 6.0]\n"
      ],
      "metadata": {
        "id": "-Ee6yTx_bp6v"
      }
    },
    {
      "cell_type": "code",
      "source": [
        "birds = ['spoonbills', 'plovers', 'plovers', 'plovers', 'plovers', 'Cranes', 'plovers', 'plovers', 'Cranes', 'spoonbills']\n",
        "age = [5.5, 6.0, 3.5, 1.5, 3.0, 4.0, 3.5, 2.0, 5.5, 6.0]\n",
        "\n",
        "birds_arr = np.array(birds)\n",
        "age_arr = np.array(age)\n",
        "\n",
        "sorted_indices = np.argsort(age_arr)\n",
        "\n",
        "sorted_birds = [birds[i] for i in sorted_indices]\n",
        "\n",
        "print(\"Birds sorted by age (ascending):\")\n",
        "print(sorted_birds)"
      ],
      "metadata": {
        "colab": {
          "base_uri": "https://localhost:8080/"
        },
        "id": "akCqaesVbqVH",
        "outputId": "9df869da-8ff4-4420-9058-1cf5d54d55f6"
      },
      "execution_count": null,
      "outputs": [
        {
          "output_type": "stream",
          "name": "stdout",
          "text": [
            "Birds sorted by age (ascending):\n",
            "['plovers', 'plovers', 'plovers', 'plovers', 'plovers', 'Cranes', 'spoonbills', 'Cranes', 'plovers', 'spoonbills']\n"
          ]
        }
      ]
    },
    {
      "cell_type": "markdown",
      "source": [
        "7. Given the shape of an array and a range, Return an array of specified shape, consisting of random integers from \"discrete uniform\" distribution, in given range [low, high].\n",
        "* Note: high is inclusive in range.\n",
        "- Input Format:\n",
        "  - Input has two lines.\n",
        "  - First line contains the shape of the array.\n",
        "  - Second line contains the range (low, high).\n",
        "- Output Format: A NumPy array\n"
      ],
      "metadata": {
        "id": "LnRw_ZrVbq54"
      }
    },
    {
      "cell_type": "code",
      "source": [
        "shape = tuple(map(int, input(\"Enter shape (space-separated): \").split()))\n",
        "low, high = map(int, input(\"Enter low and high values: \").split())\n",
        "\n",
        "arr = np.random.randint(low, high + 1, size=shape)\n",
        "\n",
        "print(\"\\nGenerated array:\")\n",
        "print(arr)"
      ],
      "metadata": {
        "id": "y7n42VG7brSc",
        "colab": {
          "base_uri": "https://localhost:8080/"
        },
        "outputId": "3ddc97ec-fb6f-472a-8d73-bc05d81003fa"
      },
      "execution_count": null,
      "outputs": [
        {
          "output_type": "stream",
          "name": "stdout",
          "text": [
            "Enter shape (space-separated): 2 3\n",
            "Enter low and high values: 10 20\n",
            "\n",
            "Generated array:\n",
            "[[13 12 18]\n",
            " [17 12 20]]\n"
          ]
        }
      ]
    },
    {
      "cell_type": "markdown",
      "source": [
        "### Challenging Questions -"
      ],
      "metadata": {
        "id": "4Yg6lyCYcPHi"
      }
    },
    {
      "cell_type": "markdown",
      "source": [
        "1. Create a 10x10 matrix with random integers and find the indices of the top 3 maximum\n",
        "values.\n",
        "  - Concepts: Matrix generation, indexing with conditions.\n"
      ],
      "metadata": {
        "id": "ZkibkRtCcTKf"
      }
    },
    {
      "cell_type": "code",
      "source": [
        "mat = np.random.randint(1,101, size = (10,10))\n",
        "print(\"10x10 matrix with random integers:\")\n",
        "print(mat)\n",
        "\n",
        "flat = mat.flatten()\n",
        "sorted_indices = np.argsort(flat)[::-1]\n",
        "top3_flat_indices = sorted_indices[:3]\n",
        "top3_indices = np.unravel_index(top3_flat_indices, mat.shape)\n",
        "top3_positions = list(zip(top3_indices[0], top3_indices[1]))\n",
        "print(\"\\nIndices of top 3 maximum values:\")\n",
        "print(top3_positions)\n",
        "\n",
        "rows, cols = np.unravel_index(top3_flat_indices, mat.shape)\n",
        "clean_indices = [(int(r), int(c)) for r, c in zip(rows, cols)]\n",
        "\n",
        "print(\"Top 3 indices (clean):\")\n",
        "print(clean_indices)"
      ],
      "metadata": {
        "colab": {
          "base_uri": "https://localhost:8080/"
        },
        "id": "6WYNangWcUf4",
        "outputId": "9a23dd92-5ef9-40e6-942c-560da1f09cbf"
      },
      "execution_count": null,
      "outputs": [
        {
          "output_type": "stream",
          "name": "stdout",
          "text": [
            "10x10 matrix with random integers:\n",
            "[[ 69  10   3  94   1  85  12   9  82  92]\n",
            " [ 23  37   6  85  25   3  43  46  56  71]\n",
            " [ 87  23  94 100  22  89  54  16  64  94]\n",
            " [ 64   3  44   2  40  96  89  42  24  86]\n",
            " [ 49   7  82  21   8  70  66  59  45  61]\n",
            " [ 15  63  34  75  85  87  68  29  83  90]\n",
            " [ 94  96  90  98  13  94  94  25  30  11]\n",
            " [ 23  77  55   8  27  62   9  33  30   5]\n",
            " [ 42  38   5  26  44  54  86  60  44  27]\n",
            " [ 63  38  80  49  26  22   7  95  58   6]]\n",
            "\n",
            "Indices of top 3 maximum values:\n",
            "[(np.int64(2), np.int64(3)), (np.int64(6), np.int64(3)), (np.int64(6), np.int64(1))]\n",
            "Top 3 indices (clean):\n",
            "[(2, 3), (6, 3), (6, 1)]\n"
          ]
        }
      ]
    },
    {
      "cell_type": "markdown",
      "source": [
        "2. Solve a system of three linear equations using NumPy’s linalg.solve() function.\n",
        "  - Concepts: Linear algebra, system of equations."
      ],
      "metadata": {
        "id": "1y57Eq-1cSIW"
      }
    },
    {
      "cell_type": "code",
      "source": [
        "A = np.array([[[2, 1, -1],\n",
        "               [-3, -1, 2],\n",
        "               [-2, 1, 2]]])\n",
        "\n",
        "B = np.array([8, -11, -3])\n",
        "\n",
        "X = np.linalg.solve(A, B)\n",
        "\n",
        "print(\"Solution for x, y, z:\")\n",
        "print((X))\n",
        "\n",
        "print(\"\\nVerification (A @ X):\")\n",
        "print(A @ X.flatten())"
      ],
      "metadata": {
        "colab": {
          "base_uri": "https://localhost:8080/"
        },
        "id": "_xpr62B6PFbs",
        "outputId": "e022fb08-574d-4ba4-f310-0c46eef8e636"
      },
      "execution_count": null,
      "outputs": [
        {
          "output_type": "stream",
          "name": "stdout",
          "text": [
            "Solution for x, y, z:\n",
            "[[ 2.  3. -1.]]\n",
            "\n",
            "Verification (A @ X):\n",
            "[[  8. -11.  -3.]]\n"
          ]
        }
      ]
    },
    {
      "cell_type": "markdown",
      "source": [
        "3. Generate a random 8x8 matrix and compute its eigenvalues and eigenvectors.\n",
        "  - Concepts: Linear algebra, eigenvalues/eigenvectors."
      ],
      "metadata": {
        "id": "QtqoxHadcVb0"
      }
    },
    {
      "cell_type": "code",
      "source": [
        "A = np.random.rand(8, 8)\n",
        "eigenvalues, eigenvectors = np.linalg.eig(A)\n",
        "\n",
        "print(\"Eigenvalues:\")\n",
        "print(eigenvalues)\n",
        "\n",
        "print(\"\\nEigenvectors:\")\n",
        "print(eigenvectors)"
      ],
      "metadata": {
        "id": "_V1TtwWScV3e",
        "colab": {
          "base_uri": "https://localhost:8080/"
        },
        "outputId": "32da9309-e547-4b13-827f-1327f77e264c"
      },
      "execution_count": null,
      "outputs": [
        {
          "output_type": "stream",
          "name": "stdout",
          "text": [
            "Eigenvalues:\n",
            "[ 3.70247955+0.j          0.85176625+0.j          0.18333315+0.74391949j\n",
            "  0.18333315-0.74391949j -0.91520294+0.j         -0.48462354+0.j\n",
            " -0.08155073+0.18717814j -0.08155073-0.18717814j]\n",
            "\n",
            "Eigenvectors:\n",
            "[[-0.35446074+0.j         -0.60949605+0.j          0.54063144+0.j\n",
            "   0.54063144-0.j          0.17351694+0.j         -0.02523406+0.j\n",
            "   0.15752124+0.16803589j  0.15752124-0.16803589j]\n",
            " [-0.34056552+0.j          0.59015499+0.j          0.03246737-0.19432893j\n",
            "   0.03246737+0.19432893j -0.40102681+0.j         -0.57988105+0.j\n",
            "  -0.1711991 +0.09260427j -0.1711991 -0.09260427j]\n",
            " [-0.16188076+0.j         -0.09311682+0.j         -0.20773856+0.24813206j\n",
            "  -0.20773856-0.24813206j -0.10546138+0.j         -0.37082448+0.j\n",
            "  -0.69630459+0.j         -0.69630459-0.j        ]\n",
            " [-0.39474593+0.j         -0.10521969+0.j         -0.19722543-0.18208095j\n",
            "  -0.19722543+0.18208095j -0.18871263+0.j          0.51529347+0.j\n",
            "   0.4372814 +0.07971677j  0.4372814 -0.07971677j]\n",
            " [-0.4335617 +0.j          0.12113657+0.j          0.02695666+0.28094586j\n",
            "   0.02695666-0.28094586j -0.4203289 +0.j          0.20327214+0.j\n",
            "  -0.02225031-0.16682523j -0.02225031+0.16682523j]\n",
            " [-0.39057662+0.j         -0.08325922+0.j         -0.32821732+0.08487979j\n",
            "  -0.32821732-0.08487979j  0.01568491+0.j         -0.05670159+0.j\n",
            "   0.29056045-0.21160047j  0.29056045+0.21160047j]\n",
            " [-0.32113083+0.j          0.08146115+0.j          0.22799698-0.42582688j\n",
            "   0.22799698+0.42582688j  0.39474439+0.j          0.38261694+0.j\n",
            "  -0.02800309-0.08330654j -0.02800309+0.08330654j]\n",
            " [-0.3642693 +0.j          0.48192079+0.j         -0.16987697+0.1880581j\n",
            "  -0.16987697-0.1880581j   0.65543061+0.j         -0.262931  +0.j\n",
            "  -0.04463407+0.24375035j -0.04463407-0.24375035j]]\n"
          ]
        }
      ]
    },
    {
      "cell_type": "markdown",
      "source": [
        "4. Create a large random matrix (1000x1000) and find the time taken to compute the sum\n",
        "of its elements.\n",
        "  - Concepts: Performance evaluation, time computation.\n"
      ],
      "metadata": {
        "id": "99KBoKwFcWN9"
      }
    },
    {
      "cell_type": "code",
      "source": [
        "import numpy as np\n",
        "import time\n",
        "\n",
        "mat = np.random.rand(1000, 1000)\n",
        "\n",
        "start = time.time()\n",
        "\n",
        "total_sum = np.sum(mat)\n",
        "\n",
        "end = time.time()\n",
        "\n",
        "print(\"Sum of all elements:\", total_sum)\n",
        "print(\"Time taken (seconds):\", end - start)"
      ],
      "metadata": {
        "colab": {
          "base_uri": "https://localhost:8080/"
        },
        "id": "w3gBm1ctRK-a",
        "outputId": "70593a69-f018-4b83-987d-a4ea31ad6335"
      },
      "execution_count": null,
      "outputs": [
        {
          "output_type": "stream",
          "name": "stdout",
          "text": [
            "Sum of all elements: 500089.69538929925\n",
            "Time taken (seconds): 0.0007815361022949219\n"
          ]
        }
      ]
    },
    {
      "cell_type": "code",
      "source": [
        "mat2 = np.random.randint(1,1000, size = (1000,1000))\n",
        "%timeit np.sum(mat2)"
      ],
      "metadata": {
        "id": "1apOCO2_cWtL",
        "colab": {
          "base_uri": "https://localhost:8080/"
        },
        "outputId": "77027e3f-4ec5-4170-8747-49b546e7a1b3"
      },
      "execution_count": null,
      "outputs": [
        {
          "output_type": "stream",
          "name": "stdout",
          "text": [
            "394 µs ± 84.5 µs per loop (mean ± std. dev. of 7 runs, 1000 loops each)\n"
          ]
        }
      ]
    },
    {
      "cell_type": "markdown",
      "source": [
        "5. Implement matrix multiplication of two large matrices (500x500) without using\n",
        "numpy.dot() and compare the performance with NumPy's dot product.\n",
        "  - Concepts: Matrix multiplication, performance comparison."
      ],
      "metadata": {
        "id": "-MzhU-9IcXnq"
      }
    },
    {
      "cell_type": "code",
      "source": [
        "A = np.random.rand(500, 500)\n",
        "B = np.random.rand(500, 500)\n",
        "\n",
        "start = time.time()\n",
        "C_manual = np.zeros((500, 500))\n",
        "\n",
        "for i in range(500):\n",
        "    for j in range(500):\n",
        "        for k in range(500):\n",
        "            C_manual[i, j] += A[i, k] * B[k, j]\n",
        "\n",
        "end = time.time()\n",
        "print(\"Time taken (manual loops):\", end - start)\n",
        "\n",
        "start = time.time()\n",
        "C_numpy = np.dot(A, B)\n",
        "end = time.time()\n",
        "print(\"Time taken (NumPy dot):\", end - start)"
      ],
      "metadata": {
        "id": "9yPbM423cYCw",
        "colab": {
          "base_uri": "https://localhost:8080/"
        },
        "outputId": "856c3e02-7f28-46f0-ac4b-55f7f0aa557c"
      },
      "execution_count": null,
      "outputs": [
        {
          "output_type": "stream",
          "name": "stdout",
          "text": [
            "Time taken (manual loops): 81.74833822250366\n",
            "Time taken (NumPy dot): 0.025294065475463867\n"
          ]
        }
      ]
    },
    {
      "cell_type": "code",
      "source": [
        "A"
      ],
      "metadata": {
        "colab": {
          "base_uri": "https://localhost:8080/"
        },
        "id": "ZVFRLwIQYSPG",
        "outputId": "8753607c-710d-461d-e44e-a4db97154295"
      },
      "execution_count": null,
      "outputs": [
        {
          "output_type": "execute_result",
          "data": {
            "text/plain": [
              "array([[0.01782432, 0.66143314, 0.20833444, ..., 0.61260832, 0.85807109,\n",
              "        0.89039094],\n",
              "       [0.95956549, 0.08076704, 0.42132728, ..., 0.52486833, 0.26936497,\n",
              "        0.79975411],\n",
              "       [0.95684118, 0.85524614, 0.76622777, ..., 0.10412504, 0.08374074,\n",
              "        0.11588302],\n",
              "       ...,\n",
              "       [0.91401383, 0.55164117, 0.39824734, ..., 0.08734108, 0.35172946,\n",
              "        0.87620574],\n",
              "       [0.85112485, 0.50161843, 0.43175835, ..., 0.51430209, 0.56898189,\n",
              "        0.24962071],\n",
              "       [0.61925142, 0.66590871, 0.32765169, ..., 0.16348165, 0.13146945,\n",
              "        0.74742701]])"
            ]
          },
          "metadata": {},
          "execution_count": 14
        }
      ]
    },
    {
      "cell_type": "code",
      "source": [
        "B"
      ],
      "metadata": {
        "colab": {
          "base_uri": "https://localhost:8080/"
        },
        "id": "U8tV1hn5bpxN",
        "outputId": "3101ef17-bd7c-45a0-bf01-470df966f6cf"
      },
      "execution_count": null,
      "outputs": [
        {
          "output_type": "execute_result",
          "data": {
            "text/plain": [
              "array([[0.23832545, 0.33413312, 0.39696751, ..., 0.16077434, 0.89761361,\n",
              "        0.19789172],\n",
              "       [0.7634787 , 0.70549928, 0.10980468, ..., 0.8077137 , 0.95356415,\n",
              "        0.71931136],\n",
              "       [0.82967947, 0.77503311, 0.82028383, ..., 0.12950167, 0.26104366,\n",
              "        0.65959257],\n",
              "       ...,\n",
              "       [0.8293558 , 0.41382486, 0.03435911, ..., 0.40607168, 0.89837881,\n",
              "        0.92862142],\n",
              "       [0.67239737, 0.43008004, 0.95174271, ..., 0.34623397, 0.92232035,\n",
              "        0.05994934],\n",
              "       [0.06418565, 0.37502726, 0.42558589, ..., 0.20188509, 0.96363393,\n",
              "        0.92351307]])"
            ]
          },
          "metadata": {},
          "execution_count": 15
        }
      ]
    }
  ]
}